{
 "cells": [
  {
   "cell_type": "markdown",
   "id": "essential-airline",
   "metadata": {},
   "source": [
    "# Exercise 2: Separate $t$- and $s$-channel contributions\n",
    "\n",
    "Only Feynman diagrams contributing to the production of $Z$ boson are to be considered for the measurements. The **electron** Monte Carlo sample incorporate contributions from $t$- and $s$-channels.\n",
    "* Select/correct contributions producing $Z$ boson decays. (Hint: Which role does the $\\cos(\\theta)$ distribution play in separating $t$- and $s$-channels?)"
   ]
  },
  {
   "cell_type": "markdown",
   "id": "saved-barbados",
   "metadata": {},
   "source": [
    "#### Import libraries and functions"
   ]
  },
  {
   "cell_type": "code",
   "execution_count": null,
   "id": "composite-frequency",
   "metadata": {},
   "outputs": [],
   "source": [
    "import uproot\n",
    "import awkward as ak\n",
    "import mplhep\n",
    "%matplotlib inline \n",
    "import numpy as np\n",
    "import matplotlib.pyplot as plt\n",
    "from scipy.optimize import curve_fit\n",
    "from scipy.integrate import quad"
   ]
  },
  {
   "cell_type": "markdown",
   "id": "natural-sunday",
   "metadata": {},
   "source": [
    "#### Load the relevant data"
   ]
  },
  {
   "cell_type": "code",
   "execution_count": null,
   "id": "abandoned-vulnerability",
   "metadata": {},
   "outputs": [],
   "source": [
    "### Specify the folder path for MC samples\n",
    "path_data = 'data/'\n",
    "\n",
    "### Open the file introducing file path\n",
    "mc_data_ee = uproot.open(path_data+'ee.root')\n",
    "ttree_name = 'myTTree'\n",
    "\n",
    "### Print list of 'branches' of the TTree (i.e. list of variable names)\n",
    "print(mc_data_ee[ttree_name].keys())\n",
    "\n",
    "### Load branches\n",
    "branches_ee = mc_data_ee[ttree_name].arrays()"
   ]
  },
  {
   "cell_type": "markdown",
   "id": "aware-fireplace",
   "metadata": {},
   "source": [
    "The last line shows all the variables available in the TTree to carry out the experiment. The meaning of these is described in the following table\n",
    "\n",
    "| Variable name | Description |\n",
    "| --- | --- | \n",
    "| <pre>run</pre> | Run number |\n",
    "| <pre>event</pre> | Event number |\n",
    "| <pre>Ncharged</pre> | Number of charged tracks |\n",
    "| <pre>Pcharged</pre> | Total scalar sum of track momenta |\n",
    "| <pre>E_ecal</pre> | Total energy measured in the electromagnetic calorimeter |\n",
    "| <pre>E_hcal</pre> | Total energy measured in the hadronic calorimete |\n",
    "| <pre>E_lep</pre> | LEP beam energy (=$\\sqrt{s}/2$) |\n",
    "| <pre>cos_thru</pre> | cosine of the polar angle between beam axis and thrust axis |\n",
    "| <pre>cos_thet</pre> | cosine of the polar angle between incoming positron and outgoing positive particle |\n"
   ]
  },
  {
   "cell_type": "code",
   "execution_count": null,
   "id": "resident-replacement",
   "metadata": {},
   "outputs": [],
   "source": [
    "### Make a nice plot of the simulated data\n",
    "plt.style.use(mplhep.style.ATLAS) # load ATLAS plot style\n",
    "plt.title(r'Histogram of the cosine of the polar angle for $Z^0 \\to e^+e^-')\n",
    "# Cut of angles \n",
    "hbins, hedges, _ = plt.hist(ak.to_numpy(branches_ee['cos_thet']),bins= np.linspace(-0.9,0.9,3000),\n",
    "         label=r'$\\cos(\\theta)$ for $e^+e^- \\to \\ e^+e^-$')\n",
    "\n",
    "### Fit the cross section for Bhabha scattering (contains a s-channel and a t-channel component)\n",
    "\n",
    "def bhabha_cross_total(x,S,T):\n",
    "    return S*(1+x**2)+T/(1-x)**2\n",
    "\n",
    "def bhabha_cross_S(x,S):\n",
    "    return S*(1+x**2)\n",
    "\n",
    "def bhabha_cross_T(x,T):\n",
    "    return T/(1-x)**2\n",
    "\n",
    "# # Get the fitted curve\n",
    "h_mid = 0.5*(hedges[1:] + hedges[:-1]) #Calculate midpoints for the fit\n",
    "\n",
    "\n",
    "# If we use the points on the edge of the interval, the fit does not work\n",
    "# start_fit = 10\n",
    "# mid = -int(len(h_mid)/2)\n",
    "# end_fit = -10\n",
    "\n",
    "# coeffs_total, _ = curve_fit(bhabha_cross_total, h_mid[start_fit:end_fit], hbins[start_fit:end_fit],sigma=np.sqrt(hbins[start_fit:end_fit]), maxfev=2000)\n",
    "# plt.plot(h_mid, bhabha_cross_total(h_mid, *coeffs_total), label='fit: total')\n",
    "\n",
    "# coeffs_S, _ = curve_fit(bhabha_cross_S, h_mid[start_fit:mid], hbins[start_fit:mid],sigma=np.sqrt(hbins[start_fit:mid]), maxfev=2000)\n",
    "# plt.plot(h_mid, bhabha_cross_S(h_mid,*coeffs_S), label='fit: s-channel')\n",
    "# coeffs_T, _ = curve_fit(bhabha_cross_T, h_mid[mid:end_fit], hbins[mid:end_fit],sigma=np.sqrt(hbins[mid:end_fit]), maxfev=2000)\n",
    "# plt.plot(h_mid, bhabha_cross_T(h_mid,*coeffs_T), label='fit: t-channel')\n",
    "\n",
    "coeffs, _ = curve_fit(bhabha_cross_total, h_mid, hbins,sigma=np.sqrt(hbins), maxfev=2000)\n",
    "plt.plot(h_mid, bhabha_cross_total(h_mid, *coeffs), label='fit: total')\n",
    "plt.plot(h_mid, bhabha_cross_S(h_mid,coeffs[0]), label='fit: s-channel')\n",
    "plt.plot(h_mid, bhabha_cross_T(h_mid,coeffs[1]), label='fit: t-channel')\n",
    "\n",
    "\n",
    "plt.xlim(-0.95,0.95)\n",
    "plt.ylim(0,100)\n",
    "plt.xlabel(r'$\\cos(\\theta)$')\n",
    "plt.legend()\n",
    "plt.show()"
   ]
  },
  {
   "cell_type": "markdown",
   "id": "incoming-expansion",
   "metadata": {},
   "source": [
    "#### Determine the cut\n",
    "Calculate the intersection point of the obtained curves, and define this point as cut"
   ]
  },
  {
   "cell_type": "code",
   "execution_count": null,
   "id": "ordinary-raising",
   "metadata": {},
   "outputs": [],
   "source": [
    "# Calculate intersection of the s and t channel fit. This defines the cut\n",
    "idx = np.argwhere(np.diff(np.sign(bhabha_cross_S(h_mid,coeffs[0]) - bhabha_cross_T(h_mid,coeffs[1])))).flatten()\n",
    "cut = h_mid[idx[0]]\n",
    "print(cut)"
   ]
  },
  {
   "cell_type": "markdown",
   "id": "crucial-beverage",
   "metadata": {},
   "source": [
    "As one can see in the graph, this cuts off some s-channel events $\\in \\{ \\cos(\\theta) \\in ($cut$,0.9)\\}$. But some t- channel events are included on the other hand. In order to calculate the efficiency, we integrate the histogram to the cut (=I_cut), integrate the s-channel curve over (-0.9,0.9) (=I_0), and the t-channel curve (=I_1) over (-0.9,cut) and use the following formular:\n",
    "\\begin{align}\n",
    "\\varepsilon_\\text{es} = \\frac{I_\\text{cut} - I_1}{I_0}\n",
    "\\end{align}"
   ]
  },
  {
   "cell_type": "code",
   "execution_count": null,
   "id": "desirable-integration",
   "metadata": {},
   "outputs": [],
   "source": [
    "i=0;\n",
    "I_cut =0;\n",
    "I_cut_error = 0;\n",
    "while hedges[i+1] <= cut:\n",
    "    I_cut += hbins[i]*(hedges[i+1]-hedges[i])\n",
    "    I_cut_error += (np.sqrt(hbins[i])*(hedges[i+1]-hedges[i]))**2\n",
    "    i+=1;\n",
    "\n",
    "I_cut_error = np.sqrt(I_cut_error)\n",
    "print(f'Integral I_cut:: {I_cut} +/- {I_cut_error}')"
   ]
  },
  {
   "cell_type": "code",
   "execution_count": null,
   "id": "reliable-danger",
   "metadata": {},
   "outputs": [],
   "source": [
    "#  Integrate bhabha_cross_S from cos(theta) in (-1.0,1.0)\n",
    "I_0=quad(bhabha_cross_S, -0.9, 0.9,args=coeffs[0])\n",
    "print(f'Integral I_0: {I_0[0]} +/- {I_0[1]}')"
   ]
  },
  {
   "cell_type": "code",
   "execution_count": null,
   "id": "differential-manitoba",
   "metadata": {},
   "outputs": [],
   "source": [
    "#  Integrate bhabha_cross_S from cos(theta) in (-1.0,1.0)\n",
    "I_1=quad(bhabha_cross_T, -0.9, cut,args=coeffs[1])\n",
    "print(f'Integral I_1: {I_1[0]} +/- {I_1[1]}')"
   ]
  },
  {
   "cell_type": "code",
   "execution_count": null,
   "id": "affiliated-characterization",
   "metadata": {},
   "outputs": [],
   "source": [
    "efficiency_es= (I_cut-I_1[0])/I_0[0]\n",
    "efficiency_es_error = np.sqrt((I_cut_error/I_0[0])**2 + (I_1[1]/I_0[0])**2 +(((I_cut-I_1[0])*I_0[1])/I_0[0]**2)**2)\n",
    "print('Correction factor: %.3f +/- %.3f'%(efficiency_es,efficiency_es_error))"
   ]
  },
  {
   "cell_type": "code",
   "execution_count": null,
   "id": "positive-insurance",
   "metadata": {},
   "outputs": [],
   "source": [
    "s_selection = np.array([cut,efficiency_es,efficiency_es_error])\n",
    "np.save(path_data+'s_selection',s_selection)"
   ]
  }
 ],
 "metadata": {
  "kernelspec": {
   "display_name": "Python 3",
   "language": "python",
   "name": "python3"
  },
  "language_info": {
   "codemirror_mode": {
    "name": "ipython",
    "version": 3
   },
   "file_extension": ".py",
   "mimetype": "text/x-python",
   "name": "python",
   "nbconvert_exporter": "python",
   "pygments_lexer": "ipython3",
   "version": "3.9.2"
  }
 },
 "nbformat": 4,
 "nbformat_minor": 5
}
