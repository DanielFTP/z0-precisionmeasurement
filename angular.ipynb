{
 "cells": [
  {
   "cell_type": "markdown",
   "metadata": {},
   "source": [
    "### Download missing libraries\n",
    "Comment in the following two lines in case some of the libraries cannot be imported. Please restart the kernel after download+upgrade has successfully finished.\n",
    "\n",
    "**Please comment in these lines when the libraries cannot be imported below**"
   ]
  },
  {
   "cell_type": "code",
   "execution_count": null,
   "metadata": {},
   "outputs": [],
   "source": [
    "### Download libraries\n",
    "#%pip install uproot \n",
    "#%pip install awkward \n",
    "#%pip install mplhep \n",
    "#%pip install numpy \n",
    "#%pip install matplotlib \n",
    "#%pip install scipy\n",
    "\n",
    "### Upgrade libraries to latest version\n",
    "#%pip install uproot awkward mplhep numpy matplotlib scipy --upgrade"
   ]
  },
  {
   "cell_type": "markdown",
   "metadata": {},
   "source": [
    "### Import libraries"
   ]
  },
  {
   "cell_type": "code",
   "execution_count": null,
   "metadata": {},
   "outputs": [],
   "source": [
    "import uproot\n",
    "import awkward as ak\n",
    "import mplhep\n",
    "%matplotlib inline \n",
    "import numpy as np\n",
    "import matplotlib.pyplot as plt"
   ]
  },
  {
   "cell_type": "markdown",
   "metadata": {},
   "source": [
    "## *Example*: Reading a ROOT.TTree and plotting a variable with a cut"
   ]
  },
  {
   "cell_type": "markdown",
   "metadata": {},
   "source": [
    "We will open data and Monte Carlo samples using **uproot**. Uproot is a reader and a writer of the ROOT file format using only Python and Numpy. Unlike PyROOT and root_numpy, uproot does not depend on C++ ROOT so that no local compilation of the ROOT libraries is needed to access the data.\n",
    "\n",
    "You can find more info on uproot following the references:\n",
    "* Github repo: https://github.com/scikit-hep/uproot4\n",
    "* Tutorial: https://masonproffitt.github.io/uproot-tutorial/\n",
    "* Video tutorial on uproot and awkward arrays:  https://www.youtube.com/embed/ea-zYLQBS4U \n",
    "\n",
    "First, let's specify the folder path for both data and Monte Carlo (MC) samples"
   ]
  },
  {
   "cell_type": "code",
   "execution_count": null,
   "metadata": {},
   "outputs": [],
   "source": [
    "path_data = 'samples/data/'\n",
    "path_mc = 'mc_z0experiment/'\n",
    "\n",
    "### Open the file introducing file path\n",
    "#file = uproot.open(path_data+'daten.root')\n",
    "file_ee = uproot.open(path_mc+'ee.root')\n",
    "file_mm = uproot.open(path_mc+'mm.root')\n",
    "file_tt = uproot.open(path_mc+'tt.root')\n",
    "file_qq = uproot.open(path_mc+'qq.root')\n",
    "\n",
    "ttree_name = 'myTTree'\n",
    "\n",
    "### Print list of 'branches' of the TTree (i.e. list of variable names)\n",
    "file_ee[ttree_name].keys()\n",
    "\n",
    "## Load branches\n",
    "branches = np.array([file_ee[ttree_name].arrays(),\n",
    "                   file_mm[ttree_name].arrays(),\n",
    "                   file_tt[ttree_name].arrays(),\n",
    "                   file_qq[ttree_name].arrays()],\n",
    "                    dtype=object)\n",
    "\n",
    "print(type(branches))\n",
    "## Define an numpy array for 'Pcharged'\n",
    "# var = 'E_ecal'\n",
    "nchar = np.array([ak.to_numpy(branches[0]['Ncharged']),\n",
    "                ak.to_numpy(branches[1]['Ncharged']),\n",
    "                ak.to_numpy(branches[2]['Ncharged']),\n",
    "                ak.to_numpy(branches[3]['Ncharged'])],\n",
    "                dtype=object)\n",
    "pchar = np.array([ak.to_numpy(branches[0]['Pcharged']),\n",
    "                ak.to_numpy(branches[1]['Pcharged']),\n",
    "                ak.to_numpy(branches[2]['Pcharged']),\n",
    "                ak.to_numpy(branches[3]['Pcharged'])],\n",
    "                dtype=object)\n",
    "#ecal = ak.to_numpy(branches[0][var]) # See Docu (https://awkward-array.org/how-to-convert-numpy.html) for more conversions\n",
    "ecal = np.array([ak.to_numpy(branches[0]['E_ecal']),\n",
    "                ak.to_numpy(branches[1]['E_ecal']),\n",
    "                ak.to_numpy(branches[2]['E_ecal']),\n",
    "                ak.to_numpy(branches[3]['E_ecal'])],\n",
    "                dtype=object)\n",
    "hcal = np.array([ak.to_numpy(branches[0]['E_hcal']),\n",
    "                ak.to_numpy(branches[1]['E_hcal']),\n",
    "                ak.to_numpy(branches[2]['E_hcal']),\n",
    "                ak.to_numpy(branches[3]['E_hcal'])],\n",
    "                dtype=object)\n",
    "cos_thet = np.array([ak.to_numpy(branches[0]['cos_thet']),\n",
    "                ak.to_numpy(branches[1]['cos_thet']),\n",
    "                ak.to_numpy(branches[2]['cos_thet']),\n",
    "                ak.to_numpy(branches[3]['cos_thet'])],\n",
    "                dtype=object)\n",
    "\n",
    "#hcal\n",
    "#print(f\"Array of type '{type(ecal)}' defined for '{var}':\\n{ecal}\")\n",
    "#print(ecal.max())"
   ]
  },
  {
   "cell_type": "markdown",
   "metadata": {},
   "source": [
    "### Apply a cut\n",
    "\n",
    "Cuts are applied by *masking* the array. This can be done as follows:"
   ]
  },
  {
   "cell_type": "code",
   "execution_count": null,
   "metadata": {},
   "outputs": [],
   "source": [
    "## Create a mask for certain selection\n",
    "ecal_lower, ecal_upper = 72, 120 \n",
    "ncharged_upper = 6\n",
    "masks = np.array([\n",
    "    (branches[0]['E_ecal'] >= ecal_lower) & (branches[0]['E_ecal'] <= ecal_upper) & \\\n",
    "        (branches[0]['Ncharged'] <= ncharged_upper),\n",
    "    (branches[1]['E_ecal'] >= ecal_lower) & (branches[1]['E_ecal'] <= ecal_upper) & \\\n",
    "        (branches[1]['Ncharged'] <= ncharged_upper),\n",
    "    (branches[2]['E_ecal'] >= ecal_lower) & (branches[2]['E_ecal'] <= ecal_upper) & \\\n",
    "        (branches[2]['Ncharged'] <= ncharged_upper),\n",
    "    (branches[3]['E_ecal'] >= ecal_lower) & (branches[3]['E_ecal'] <= ecal_upper) & \\\n",
    "        (branches[3]['Ncharged'] <= ncharged_upper)],\n",
    "    dtype=object)\n",
    "\n",
    "\n",
    "eff = np.array([sum(masks[0])/len(masks[0]),\n",
    "               sum(masks[1])/len(masks[1]),\n",
    "               sum(masks[2])/len(masks[2]),\n",
    "               sum(masks[3])/len(masks[3])])\n",
    "errors = np.array([eff[0] * np.sqrt(np.power(np.sqrt(sum(masks[0]))/sum(masks[0]), 2) + np.power(np.sqrt(len(masks[0]))/len(masks[0]), 2)),\n",
    "                  eff[1] * np.sqrt(np.power(np.sqrt(sum(masks[1]))/sum(masks[1]), 2) + np.power(np.sqrt(len(masks[1]))/len(masks[1]), 2)),\n",
    "                  eff[2] * np.sqrt(np.power(np.sqrt(sum(masks[2]))/sum(masks[2]), 2) + np.power(np.sqrt(len(masks[2]))/len(masks[2]), 2)),\n",
    "                  eff[3] * np.sqrt(np.power(np.sqrt(sum(masks[3]))/sum(masks[3]), 2) + np.power(np.sqrt(len(masks[3]))/len(masks[3]), 2))])\n",
    "\n",
    "## The sum of this array provides the number of events that passed this cut\n",
    "print(f\"A total of '{sum(masks[0])}' out of '{len(masks[0])}' events passed the cut\")\n",
    "print(f\"The scaling factor is {1e5/len(masks[0]):.4f}\")\n",
    "print(f\"*The efficiency for electrons is ({eff[0]*100:.1f} ± {errors [0]*100:.1f})%.\")\n",
    "print(f\"The efficiency for muons is ({eff[1]*100:.4f} ± {errors[1]*100:.4f})%.\")\n",
    "print(f\"The efficiency for tauons is ({eff[2]*100:.2f} ± {errors[2]*100:.2f})%.\")\n",
    "print(f\"The efficiency for hadrons is ({eff[3]*100:.3f} ± {errors[3]*100:.3f})%.\")"
   ]
  },
  {
   "cell_type": "markdown",
   "metadata": {},
   "source": [
    "### Some useful information about your selection"
   ]
  },
  {
   "cell_type": "markdown",
   "metadata": {},
   "source": [
    "### Make a plot with a certain selection"
   ]
  },
  {
   "cell_type": "code",
   "execution_count": null,
   "metadata": {},
   "outputs": [],
   "source": [
    "from scipy.optimize import curve_fit\n",
    "import scipy.integrate as integrate\n",
    "N = 300\n",
    "\n",
    "plt.style.use(mplhep.style.ATLAS) # You can load ATLAS/CMS/ALICE plot style \n",
    "plt.figure(figsize=(7,5))\n",
    "\n",
    "#mask_thet = (branches[0]['cos_thet'] >= -0.9) & (branches[0]['cos_thet'] <= 0.9)\n",
    "\n",
    "def angdis(x, a, b):\n",
    "    return a * (1 + np.power(x, 2)) + b * np.power(1 - x, -2)\n",
    "\n",
    "bin_content, bin_edges, _ = plt.hist(cos_thet[0],bins=N,range=(-1.,1.), histtype='step',  linewidth=2, edgecolor='#396ab1', hatch='/', label='cos_thet')\n",
    "mid = 0.5*(bin_edges[1:] + bin_edges[:-1]) #Calculate midpoint of the bars\n",
    "mask_mid = (mid >= -0.9) & (mid <= 0.9)\n",
    "\n",
    "pcov, pvar = curve_fit(angdis, mid[mask_mid], bin_content[mask_mid], sigma=bin_content[mask_mid], absolute_sigma=True)\n",
    "perr = np.sqrt(np.diag(pvar))\n",
    "#print(np.sqrt(np.diag(pvar)[0]))\n",
    "\n",
    "plt.plot(mid, angdis(mid, *pcov), lw=2, c='#da7c30')\n",
    "plt.plot(mid, angdis(mid, pcov[0], 0), lw=2, c='#cc2529')\n",
    "\n",
    "integral = lambda x: x**3 / 3 + x\n",
    "#print(1/(2/N) * pcov[0] * (integral(1) - integral(-1)))\n",
    "#print(np.diag(pvar)[0])\n",
    "result = 1/(2/N) * np.array([pcov[0], perr[0]]) * (integral(1) - integral(-1))\n",
    "print(1/(2/N) * pcov[0] * (integral(0.5) - integral(-0.9)))\n",
    "print(1/(2/N) * perr[0] * (integral(0.5) - integral(-0.9)))\n",
    "\n",
    "print(sum(bin_content[(mid >= -0.9) & (mid <= 0.5)]), np.sqrt(sum(bin_content[(mid >= -0.9) & (mid <= 0.5)])))\n",
    "print(result)\n",
    "print(f\"{round(result[0], -1):.0f} ± {round(result[1],-2):.0f}\")\n",
    "print(abs(18233-20531.0)/np.sqrt(1529**2 + 143**2))\n",
    "\n",
    "### Show the plot on screen\n",
    "plt.title('Angular distribution of electron events')\n",
    "plt.xlim(-1.,1.)\n",
    "plt.ylim(0.,round(max(bin_content)*1.1, -2))\n",
    "plt.xlabel('$\\\\cos({\\\\theta})$')\n",
    "plt.ylabel('Number of events')\n",
    "plt.show()\n",
    "\n"
   ]
  }
 ],
 "metadata": {
  "kernelspec": {
   "display_name": "Python 3",
   "language": "python",
   "name": "python3"
  },
  "language_info": {
   "codemirror_mode": {
    "name": "ipython",
    "version": 3
   },
   "file_extension": ".py",
   "mimetype": "text/x-python",
   "name": "python",
   "nbconvert_exporter": "python",
   "pygments_lexer": "ipython3",
   "version": "3.9.2"
  }
 },
 "nbformat": 4,
 "nbformat_minor": 4
}
