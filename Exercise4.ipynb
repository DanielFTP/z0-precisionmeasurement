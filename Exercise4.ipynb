{
 "cells": [
  {
   "cell_type": "markdown",
   "id": "apparent-viking",
   "metadata": {},
   "source": [
    "# Exercise 4: Forward-backward asymmetry and $\\sin^2(\\theta_\\text{W})$ in muon final states\n",
    "\n",
    "* Using the **muon channel only**, measure the forward-backward asymmetry $\\mathcal{A}_\\text{FB}$ using OPAL data and muon Monte Carlo events. Take into account the radiation corrections given below. \n",
    "\n",
    "| $\\sqrt{s}$   \\[GeV\\]| Radiation correction [-]|  \n",
    "| --- | --- | \n",
    "| 88.47 | 0.021512  | \n",
    "| 89.46 | 0.019262  | \n",
    "| 90.22 | 0.016713  | \n",
    "| 91.22 | 0.018293  | \n",
    "| 91.97 | 0.030286  | \n",
    "| 92.96 | 0.062196  | \n",
    "| 93.76 | 0.093850  | \n",
    "\n",
    "Feel free to use the dictionary 'radiation_corrections' given below.\n",
    "\n",
    "* Measure the **Weinberg angle** as $\\sin^2(\\theta_\\text{W})$. Compare the measurement with the literature."
   ]
  },
  {
   "cell_type": "code",
   "execution_count": null,
   "id": "introductory-steering",
   "metadata": {},
   "outputs": [],
   "source": [
    "#### Load libraries\n",
    "import uproot\n",
    "import awkward as ak\n",
    "import mplhep\n",
    "%matplotlib inline \n",
    "import numpy as np\n",
    "import matplotlib.pyplot as plt\n",
    "from scipy.optimize import curve_fit\n",
    "import csv"
   ]
  },
  {
   "cell_type": "code",
   "execution_count": null,
   "id": "leading-donna",
   "metadata": {},
   "outputs": [],
   "source": [
    "radiation_corrections = { 'energy' : [ 88.47, 89.46, 90.22, 91.22, 91.97, 92.96, 93.76] ,\n",
    "                          'correction' : [0.021512, 0.019262, 0.016713, 0.018293, 0.030286, 0.062196, 0.093850]}\n",
    "\n",
    "path_data = 'data/'\n",
    "s_selection = np.load(path_data+'s_selection.npy')\n",
    "cuts = {'ee_s' : {'Pcharged':(0,200), 'Ncharged':(0,7),'E_ecal':(65,200),'E_hcal':(0,5),'cos_thet': (-0.9,s_selection[0])}, \n",
    "         'mm' : {'Pcharged':(75,200), 'Ncharged':(1,7),'E_ecal':(0,27),'E_hcal':(0,40)}, \n",
    "         'qq' : {'Pcharged':(0,200), 'Ncharged':(7,200),'E_ecal':(27,90),'E_hcal':(0,100)},\n",
    "         'tt' : {'Pcharged':(0,75), 'Ncharged':(2,7),'E_ecal':(0,65),'E_hcal':(0,50)}}"
   ]
  },
  {
   "cell_type": "code",
   "execution_count": null,
   "id": "gentle-roads",
   "metadata": {},
   "outputs": [],
   "source": [
    "# test if x is element of interval I\n",
    "def isin(x,I):\n",
    "    if x >= I[0] and x < I[1]: return True\n",
    "    else: return False\n",
    "    \n",
    "def t_test(x, sx, y, sy = 0):\n",
    "    return np.abs(x - y)/np.sqrt(sx**2 + sy**2)\n",
    "\n",
    "\n",
    "# categorize the events: put array indices of measured data into the corresponding energy category\n",
    "# return dictionary with indices\n",
    "def cat_energy(E_Lep,en_edges):\n",
    "    energy_indices={'energy_1':[] ,'energy_2':[] ,'energy_3':[] ,'energy_4':[] ,'energy_5':[] , 'energy_6':[],\n",
    "                    'energy_7':[]}\n",
    "    \n",
    "    i=0;\n",
    "    for e in 2*E_Lep:\n",
    "        if e<en_edges[1]:\n",
    "            energy_indices['energy_1'].append(i)\n",
    "        elif e>=en_edges[1] and e<en_edges[2]:\n",
    "            energy_indices['energy_2'].append(i)\n",
    "        elif e>=en_edges[2] and e<en_edges[3]:\n",
    "            energy_indices['energy_3'].append(i)\n",
    "        elif e>=en_edges[3] and e<en_edges[4]:\n",
    "            energy_indices['energy_4'].append(i)\n",
    "        elif e>=en_edges[4] and e<en_edges[5]:\n",
    "            energy_indices['energy_5'].append(i)\n",
    "        elif e>=en_edges[5] and e<en_edges[6]:\n",
    "            energy_indices['energy_6'].append(i)\n",
    "        elif e>=en_edges[6]:\n",
    "            energy_indices['energy_7'].append(i)\n",
    "        i+=1;\n",
    "    \n",
    "    return energy_indices\n",
    "\n",
    "# Function to obtain the cos_thet_muon numpy array from the opal data\n",
    "def get_cos_theta_muon(en_indices,cuts,Pchar,Nchar,E_ecal,E_hcal,cos_thet):\n",
    "    cos_theta_muon={'energy_1':[] ,'energy_2':[] ,'energy_3':[] ,'energy_4':[] ,'energy_5':[] , 'energy_6':[],\n",
    "                    'energy_7':[]}\n",
    "    \n",
    "    measurements = {'Pcharged': Pchar, 'Ncharged': Nchar,'E_ecal': E_ecal,'E_hcal': E_hcal, 'cos_thet': cos_thet}\n",
    "    for energy, indices in en_indices.items():\n",
    "        for i in indices:\n",
    "            for var, interval in cuts['mm'].items():\n",
    "                is_channel = True;\n",
    "                if not isin(measurements[var][i],interval):\n",
    "                    is_channel = False;\n",
    "                if is_channel:\n",
    "                    cos_theta_muon[energy].append(measurements['cos_thet'][i])\n",
    "                    continue;\n",
    "        \n",
    "    \n",
    "    return cos_theta_muon"
   ]
  },
  {
   "cell_type": "markdown",
   "id": "competent-serial",
   "metadata": {},
   "source": [
    "### Mote Carlo data:"
   ]
  },
  {
   "cell_type": "code",
   "execution_count": null,
   "id": "julian-alabama",
   "metadata": {},
   "outputs": [],
   "source": [
    "### Read in data\n",
    "mc_data_mm = uproot.open(path_data+'mm.root')\n",
    "ttree_name = 'myTTree'\n",
    "branches_mm = mc_data_mm[ttree_name].arrays()\n",
    "\n",
    "\n",
    "# What is the mean energy ?\n",
    "print(f\"mean energy: {np.mean(ak.to_numpy(branches_mm['E_lep'])*2)} GeV\")"
   ]
  },
  {
   "cell_type": "code",
   "execution_count": null,
   "id": "monetary-shark",
   "metadata": {},
   "outputs": [],
   "source": [
    "plt.style.use(mplhep.style.ATLAS) # load ATLAS plot style\n",
    "plt.title(r'Histogram of the cosine of the polar angle for $Z^0 \\to \\mu^+\\mu^-$ (MC data)',fontsize=15)\n",
    "hbins, hedges, _ = plt.hist(ak.to_numpy(branches_mm['cos_thet']),bins= 200, range=(-1,1),\n",
    "         label=r'$\\cos(\\theta)$ for $e^+e^- \\to \\ \\mu^+\\mu^-$', alpha = 0.8)\n",
    "\n",
    "h_mids = 0.5 * (hedges[1:] + hedges[:-1])\n",
    "\n",
    "          \n",
    "c=100\n",
    "plt.axvline(h_mids[c],ymax=0.87,linestyle = '--',color='grey')\n",
    "\n",
    "\n",
    "plt.xlim(-1.05,1.05)\n",
    "plt.xlabel(r'$\\cos(\\theta)$')\n",
    "plt.legend()\n",
    "plt.show()"
   ]
  },
  {
   "cell_type": "code",
   "execution_count": null,
   "id": "immune-cathedral",
   "metadata": {},
   "outputs": [],
   "source": [
    "# count muons on left (backward) and right (forward) side\n",
    "counter_back = sum(hbins[:c]) \n",
    "counter_forw = sum(hbins[c:]) \n",
    "\n",
    "# calculate the forward-backward asymmetry factor\n",
    "A_FB = (counter_forw-counter_back)/(counter_forw+counter_back) +radiation_corrections['correction'][3]\n",
    "# error via error propagation\n",
    "A_FB_sigma= np.sqrt(counter_forw/(counter_forw+counter_back)**2+ \n",
    "                    ((counter_forw-counter_back)/(counter_forw+counter_back)**2)**2*counter_forw+\n",
    "                      counter_back/(counter_forw+counter_back)**2+ \n",
    "                      ((counter_forw-counter_back)/(counter_forw+counter_back)**2)**2*counter_back)\n",
    "\n",
    "sin_thet_sq=1/4*(1-np.sqrt(A_FB/3)) #approximation used since mean energy close to resonance energy\n",
    "\n",
    "sin_thet_sq_sigma=1/8/np.sqrt(A_FB/3)*1/3*np.sqrt(A_FB_sigma) \n",
    "\n",
    "print(f'sin^2(theta_W)=(%.2f \\pm %.2f)' % (sin_thet_sq,sin_thet_sq_sigma))"
   ]
  },
  {
   "cell_type": "markdown",
   "id": "closed-valuable",
   "metadata": {},
   "source": [
    "### Opal data:"
   ]
  },
  {
   "cell_type": "code",
   "execution_count": null,
   "id": "reserved-girlfriend",
   "metadata": {},
   "outputs": [],
   "source": [
    "### Load information from the csv file\n",
    "rows = []\n",
    "with open(path_data+'daten_3.csv','r') as file:\n",
    "    csvreader = csv.reader(file)\n",
    "    for row in csvreader:\n",
    "        rows.append(row)\n",
    "mean_energy_opal=np.array(list(zip(*rows[1:]))[0], dtype=float)\n",
    "lumi=np.array(list(zip(*rows[1:]))[1], dtype=float)\n",
    "stat=np.array(list(zip(*rows[1:]))[2], dtype=float)\n",
    "sys=np.array(list(zip(*rows[1:]))[3], dtype=float)\n",
    "sq_sum=np.array(list(zip(*rows[1:]))[4], dtype=float)\n",
    "\n",
    "lum_data = {'energy_1': {'lumi': lumi[0] ,'stat': stat[0] , 'sys': sys[0],'all': sq_sum[0]},\n",
    "            'energy_2': {'lumi': lumi[1] ,'stat': stat[1] , 'sys': sys[1],'all': sq_sum[1]},\n",
    "            'energy_3': {'lumi': lumi[2] ,'stat': stat[2] , 'sys': sys[2],'all': sq_sum[2]},\n",
    "            'energy_4': {'lumi': lumi[3] ,'stat': stat[3] , 'sys': sys[3],'all': sq_sum[3]},\n",
    "            'energy_5': {'lumi': lumi[4] ,'stat': stat[4] , 'sys': sys[4],'all': sq_sum[4]},\n",
    "            'energy_6': {'lumi': lumi[5] ,'stat': stat[5] , 'sys': sys[5],'all': sq_sum[5]},\n",
    "            'energy_7': {'lumi': lumi[6] ,'stat': stat[6] , 'sys': sys[6],'all': sq_sum[6]}}\n",
    "\n",
    "\n",
    "### Load opal data, Store measurements in numpy arrays\n",
    "opal_data = uproot.open(path_data+'daten_3.root')\n",
    "ttree_name = 'myTTree'\n",
    "branches_opal = opal_data[ttree_name].arrays()\n",
    "Nchar = ak.to_numpy(branches_opal['Ncharged'])\n",
    "Pchar = ak.to_numpy(branches_opal['Pcharged'])\n",
    "E_Ecal = ak.to_numpy(branches_opal['E_ecal'])\n",
    "E_Hcal = ak.to_numpy(branches_opal['E_hcal'])\n",
    "E_Lep = ak.to_numpy(branches_opal['E_lep'])\n",
    "cos_thet = ak.to_numpy(branches_opal['cos_thet'])"
   ]
  },
  {
   "cell_type": "code",
   "execution_count": null,
   "id": "dominant-purple",
   "metadata": {},
   "outputs": [],
   "source": [
    "# Simulare to ex3: Categorize the data after their energy\n",
    "en_edges=[min(2*E_Lep)]\n",
    "for i in range(6):\n",
    "    en_edges.append((mean_energy_opal[i]+mean_energy_opal[i+1])/2)\n",
    "    \n",
    "en_edges.append(max(2*E_Lep))\n",
    "energy_indices = cat_energy(E_Lep,en_edges)\n",
    "\n",
    "# Get the cos_theta measurements of the muon channel\n",
    "cos_theta_muon = get_cos_theta_muon(energy_indices,cuts,Pchar,Nchar,E_Ecal,E_Hcal,cos_thet)"
   ]
  },
  {
   "cell_type": "code",
   "execution_count": null,
   "id": "handy-piano",
   "metadata": {},
   "outputs": [],
   "source": [
    "for energy, cm in cos_theta_muon.items():\n",
    "    print(f\"{energy}: {len(cm)} entries\")"
   ]
  },
  {
   "cell_type": "code",
   "execution_count": null,
   "id": "coral-father",
   "metadata": {
    "scrolled": true
   },
   "outputs": [],
   "source": [
    "fig, ax = plt.subplots(figsize=(15, 12),dpi=500)\n",
    "fig.subplots_adjust(left=None, bottom=None, right=None, top=None, wspace=0.4, hspace=0.4)\n",
    "fig.suptitle(r'Histograms of the cosine of the polar angle for $Z^0 \\to \\mu^+\\mu^-$(Opal data) for different energies',fontsize=20)\n",
    "plt.style.use(mplhep.style.ATLAS) # load ATLAS plot style\n",
    "i=0;\n",
    "\n",
    "A_FB = []\n",
    "A_FB_sigma = []\n",
    "for energy, cm in cos_theta_muon.items():\n",
    "    cos_thet_np = np.array(cm)\n",
    "    ax = plt.subplot(331+i)\n",
    "    hbins, hedges, _ = plt.hist(cos_thet_np,bins= 200, range=(-1,1),\n",
    "         label=r'$\\cos(\\theta)$ for $e^+e^- \\to \\ \\mu^+\\mu^-$', alpha = 0.8)\n",
    "    \n",
    "    \n",
    "    c=100;\n",
    "    # count muons on left (backward) and right (forward) side\n",
    "    counter_back = sum(hbins[:c]) \n",
    "    counter_forw = sum(hbins[c:]) \n",
    "\n",
    "    # calculate the forward-backward asymmetry factor\n",
    "    a_FB = (counter_forw-counter_back)/(counter_forw+counter_back) +radiation_corrections['correction'][i]\n",
    "    # error via error propagation\n",
    "    a_FB_sigma= np.sqrt(counter_forw/(counter_forw+counter_back)**2+\n",
    "                        ((counter_forw-counter_back)/(counter_forw+counter_back)**2)**2*counter_forw+\n",
    "                        counter_back/(counter_forw+counter_back)**2+\n",
    "                        ((counter_forw-counter_back)/(counter_forw+counter_back)**2)**2*counter_back)\n",
    "    \n",
    "    if i==3:\n",
    "        sin_thet_sq=1/4*(1-np.sqrt(np.abs(a_FB)/3)) #approximation used since mean energy close to resonance energy\n",
    "        sin_thet_sq_sigma=1/8/np.sqrt(np.abs(a_FB)/3)*1/3*np.sqrt(a_FB_sigma)\n",
    "    \n",
    "    A_FB.append(a_FB)\n",
    "    A_FB_sigma.append(a_FB_sigma)\n",
    "    ax.set_xlim(-1.05,1.05)\n",
    "    ax.set_xlabel(r'$\\cos(\\theta)$')\n",
    "    \n",
    "    i+=1;\n",
    "    \n",
    "plt.show()"
   ]
  },
  {
   "cell_type": "code",
   "execution_count": null,
   "id": "unlikely-minority",
   "metadata": {},
   "outputs": [],
   "source": [
    "A_FB = np.array(A_FB)\n",
    "A_FB_sigma = np.array(A_FB_sigma)"
   ]
  },
  {
   "cell_type": "code",
   "execution_count": null,
   "id": "known-installation",
   "metadata": {},
   "outputs": [],
   "source": [
    "plt.errorbar(mean_energy_opal,A_FB,A_FB_sigma,marker='.',linestyle='None',label=r'Measurements',markersize=10,capsize=3, capthick=1)\n",
    "plt.xlabel(r'$\\sqrt{s}$ [GeV]')\n",
    "plt.ylabel(r'$A_{\\rm{FB}}$')\n",
    "\n",
    "# popt_lin, pcov_lin=curve_fit(lin, mean_energy,Asym_corr, sigma=dAsym, absolute_sigma=True)\n",
    "plt.legend()\n",
    "plt.show()"
   ]
  },
  {
   "cell_type": "markdown",
   "id": "physical-depression",
   "metadata": {},
   "source": [
    "These values are not appropriate for an linear fit. So we just calculate the squared sine of the weinberg angle for the peak. The result is"
   ]
  },
  {
   "cell_type": "code",
   "execution_count": null,
   "id": "utility-rebound",
   "metadata": {},
   "outputs": [],
   "source": [
    "sin_thet_sq_lit = [0.23122,0.00004]\n",
    "\n",
    "print(f'sin^2(theta_W)=(%.2f \\pm %.2f) t-Test: %.2f ' % (sin_thet_sq,sin_thet_sq_sigma,t_test(sin_thet_sq,sin_thet_sq_sigma,*sin_thet_sq_lit)))"
   ]
  },
  {
   "cell_type": "code",
   "execution_count": null,
   "id": "accompanied-breed",
   "metadata": {},
   "outputs": [],
   "source": []
  }
 ],
 "metadata": {
  "kernelspec": {
   "display_name": "Python 3",
   "language": "python",
   "name": "python3"
  },
  "language_info": {
   "codemirror_mode": {
    "name": "ipython",
    "version": 3
   },
   "file_extension": ".py",
   "mimetype": "text/x-python",
   "name": "python",
   "nbconvert_exporter": "python",
   "pygments_lexer": "ipython3",
   "version": "3.9.2"
  }
 },
 "nbformat": 4,
 "nbformat_minor": 5
}
