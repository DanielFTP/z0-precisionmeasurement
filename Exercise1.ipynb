{
 "cells": [
  {
   "cell_type": "markdown",
   "id": "beautiful-worst",
   "metadata": {},
   "source": [
    "# Exercise 1: Optimize lepton selection\n",
    "\n",
    "* First, print the distributions of the relevant variables for *all* the Monte Carlo samples (i.e. all the *channels* of the $Z$-boson decay to be studied). Which variables are these? Give sensible ranges to include all the events in the samples (both MC and OPAL data) \n",
    "* Do the same for **one** of the OPAL data samples (your lab assistant will decide which one you choose).\n",
    "* Describe the results.\n",
    "* Optimize the object selection by applying cuts. Make a strategy on how to proceed to find the optimal selection. which information do you need?\n",
    "* Determine the efficiency and the amount of background for each $Z$ decay channel. Use the simulated events $e^+e^-$, $\\mu^+\\mu^-$, $\\tau^+\\tau^-$ and hadrons ($qq$). Represent the result in a matrix form and think carefully about how you have to correct the measured rates. Don't forget to calculate the errors!\n",
    "* How do we estimate the statistical fluctuations per bin?"
   ]
  },
  {
   "cell_type": "markdown",
   "id": "blessed-memory",
   "metadata": {},
   "source": [
    "#### Import libraries"
   ]
  },
  {
   "cell_type": "code",
   "execution_count": 1,
   "id": "impaired-adams",
   "metadata": {},
   "outputs": [],
   "source": [
    "import uproot\n",
    "import awkward as ak\n",
    "import mplhep\n",
    "%matplotlib inline \n",
    "import numpy as np\n",
    "import matplotlib.pyplot as plt"
   ]
  },
  {
   "cell_type": "markdown",
   "id": "familiar-broadcasting",
   "metadata": {},
   "source": [
    "#### Load the data"
   ]
  },
  {
   "cell_type": "code",
   "execution_count": 2,
   "id": "hundred-madison",
   "metadata": {},
   "outputs": [
    {
     "name": "stdout",
     "output_type": "stream",
     "text": [
      "['run', 'event', 'Ncharged', 'Pcharged', 'E_ecal', 'E_hcal', 'E_lep', 'cos_thru', 'cos_thet']\n"
     ]
    }
   ],
   "source": [
    "### Specify the folder path for MC samples\n",
    "path_data = 'data/'\n",
    "\n",
    "### Open the file introducing file path\n",
    "mc_data_ee = uproot.open(path_data+'ee.root')\n",
    "mc_data_mm = uproot.open(path_data+'mm.root')\n",
    "mc_data_qq = uproot.open(path_data+'qq.root')\n",
    "mc_data_tt = uproot.open(path_data+'tt.root')\n",
    "ttree_name = 'myTTree'\n",
    "\n",
    "### Print list of 'branches' of the TTree (i.e. list of variable names)\n",
    "print(mc_data_ee[ttree_name].keys())\n",
    "\n",
    "### Load branches\n",
    "branches_ee = mc_data_ee[ttree_name].arrays()\n",
    "branches_mm = mc_data_mm[ttree_name].arrays()\n",
    "branches_qq = mc_data_qq[ttree_name].arrays()\n",
    "branches_tt = mc_data_tt[ttree_name].arrays()\n",
    "\n",
    "\n",
    "### List of variables (of interest)\n",
    "variables=['Pcharged', 'Ncharged', 'E_ecal', 'E_hcal']\n",
    "channels=['ee','mm','qq','tt'] \n",
    "\n",
    "# print(channels)\n",
    "# print(len(channels))\n",
    "\n",
    "### For later purposes (to calculate efficiency matrix) we store the data from braches into a list\n",
    "mc_data = {'ee' : {}, 'mm' : {}, 'qq' : {}, 'tt' : {}}\n",
    "mc_data['ee'] = branches_ee\n",
    "mc_data['mm'] = branches_mm\n",
    "mc_data['qq'] = branches_qq\n",
    "mc_data['tt'] = branches_tt\n",
    "\n",
    "\n",
    "\n",
    "\n",
    "### Read in the variables for all MC data samples\n",
    "Pchar=ak.Array([branches_ee[variables[0]],branches_mm[variables[0]],branches_qq[variables[0]],branches_tt[variables[0]]])\n",
    "Nchar=ak.Array([branches_ee[variables[1]],branches_mm[variables[1]],branches_qq[variables[1]],branches_tt[variables[1]]])\n",
    "E_ecal=ak.Array([branches_ee[variables[2]],branches_mm[variables[2]],branches_qq[variables[2]],branches_tt[variables[2]]])\n",
    "E_hcal=ak.Array([branches_ee[variables[3]],branches_mm[variables[3]],branches_qq[variables[3]],branches_tt[variables[3]]])"
   ]
  },
  {
   "cell_type": "markdown",
   "id": "going-vacuum",
   "metadata": {},
   "source": [
    "#### Plot the MC data samples to nice looking histograms"
   ]
  },
  {
   "cell_type": "code",
   "execution_count": 3,
   "id": "invalid-ensemble",
   "metadata": {},
   "outputs": [],
   "source": [
    "# labels=[r'$Z^0$ $\\to$ $e^+e^-$',r'$Z^0$ $\\to$ $\\mu^+\\mu^-$',r'$Z^0$ $\\to$ hadrons',r'$Z^0$ $\\to$ $\\tau^+\\tau^-$']\n",
    "# plt.style.use(mplhep.style.ATLAS) # load ATLAS plot style\n",
    "# plt.title(r'PCharged: total sum of charged momenta')\n",
    "# for i in np.arange(4):\n",
    "#     plt.hist(ak.to_numpy(Pchar[i]),bins=np.arange(0,120,0.1),label=labels[i],alpha=0.7)\n",
    "    \n",
    "# plt.xlim(0,120)\n",
    "# plt.ylim(0,2200)\n",
    "# plt.xlabel(r'PCharged [Gev]')\n",
    "# plt.legend()\n",
    "# plt.savefig('pchar_hist.png')\n",
    "# plt.show()"
   ]
  },
  {
   "cell_type": "code",
   "execution_count": 4,
   "id": "sudden-farmer",
   "metadata": {},
   "outputs": [],
   "source": [
    "# plt.title(r'NCharged: charged multiplicity')\n",
    "# for i in np.arange(4):\n",
    "#     plt.hist(ak.to_numpy(Nchar[i]),bins=np.arange(0,60,1),label=labels[i],alpha=0.7)\n",
    "\n",
    "# plt.xlim(0,45)\n",
    "# plt.ylim(0,100000)\n",
    "# plt.xlabel(r'NCharged')\n",
    "# plt.legend()\n",
    "# plt.savefig('nchar_hist.png')\n",
    "# plt.show()"
   ]
  },
  {
   "cell_type": "code",
   "execution_count": 5,
   "id": "beautiful-algorithm",
   "metadata": {},
   "outputs": [],
   "source": [
    "# plt.title(r'E_ECal: total energy in the ECal')\n",
    "# for i in np.arange(4):\n",
    "#     plt.hist(ak.to_numpy(E_ecal[i]),bins=np.arange(0,120,0.1),label=labels[i],alpha=0.7)\n",
    "\n",
    "# plt.xlim(0,120)\n",
    "# plt.ylim(0,5000)\n",
    "# plt.xlabel(r'E_ECal [GeV]')\n",
    "# plt.legend()\n",
    "# plt.savefig('e_ecal_hist.png')\n",
    "# plt.show()"
   ]
  },
  {
   "cell_type": "code",
   "execution_count": 6,
   "id": "fifty-functionality",
   "metadata": {},
   "outputs": [],
   "source": [
    "# plt.title(r'E_HCal: total energy in the HCal')\n",
    "# for i in np.array([0,1,2,3]):\n",
    "#     plt.hist(ak.to_numpy(E_hcal[i]),bins=np.arange(0,80,0.08),label=labels[i],alpha=0.7)\n",
    "\n",
    "# plt.xlim(0,80)\n",
    "# plt.ylim(0,3000)\n",
    "# plt.xlabel(r'E_HCal [Gev]')\n",
    "# plt.legend()\n",
    "# plt.savefig('e_hcal_hist.png')\n",
    "# plt.show()"
   ]
  },
  {
   "cell_type": "markdown",
   "id": "sudden-masters",
   "metadata": {},
   "source": [
    "#### Cut strategy\n",
    "1. $Ncharged\\begin{cases} > 7 \\Rightarrow Z^0 \\to \\text{hadrons}, \\text{break}.\\\\\n",
    "       < 7  \\Rightarrow Z^0 \\to \\begin{cases}e^+e^- \\\\ \\mu^+\\mu^- \\\\ \\tau^+\\tau^- \\end{cases}, \\text{go to 2.}\\end{cases}$ \n",
    "2. $E\\text{_}ecal \\begin{cases}> 70 \\Rightarrow Z^0 \\to e^+e^-, \\text{break}.\\\\\n",
    " <70 \\Rightarrow Z^0 \\to \\begin{cases}\\mu^+\\mu^-  \\\\ \\tau^+\\tau^- \\end{cases},\\text{go to 3.}\\end{cases}$\n",
    "3. $Pcharged \\begin{cases} > 63  \\Rightarrow Z^0 \\to \\mu^+\\mu^-, \\text{break}. \\\\\n",
    "                            <63\\Rightarrow Z^0 \\to \\tau^+\\tau^-, \\text{break}. \\end{cases}$"
   ]
  },
  {
   "cell_type": "code",
   "execution_count": 7,
   "id": "440766f5",
   "metadata": {},
   "outputs": [],
   "source": [
    "### initial try for the cuts\n",
    "cuts = {'ee' : {}, 'mm' : {}, 'tt' : {}, 'qq' : {}}\n",
    "\n",
    "cuts['ee'] = {'Ncharged' : (0, 7), 'E_ecal' : (70,120)}\n",
    "cuts['mm'] = {'Pcharged' : (63,120),'Ncharged' : (0, 7), 'E_ecal' : (0,70)}\n",
    "cuts['qq'] = {'Ncharged' : (7, 100)}\n",
    "cuts['tt'] = {'Pcharged' : (0,63),'Ncharged' : (0, 7), 'E_ecal' : (0,70)}\n",
    "# print(len(cuts_init['ee']))\n",
    "# for var,cut in cuts['ee'].items():\n",
    "#     print(var)\n",
    "#     print(cut[0])"
   ]
  },
  {
   "cell_type": "code",
   "execution_count": 8,
   "id": "supposed-maria",
   "metadata": {
    "scrolled": false
   },
   "outputs": [
    {
     "name": "stdout",
     "output_type": "stream",
     "text": [
      "[[9.90869065e-01 5.00005298e-01 5.15406390e-02 4.99280430e-01]\n",
      " [4.75338124e-01 9.75076198e-01 3.69641752e-01 6.78255527e-01]\n",
      " [2.66518838e-04 0.00000000e+00 9.94724187e-01 1.23210544e-02]\n",
      " [5.34515966e-01 6.89022861e-01 5.65232389e-01 9.72050395e-01]]\n"
     ]
    }
   ],
   "source": [
    "from functions import get_efficiency\n",
    "\n",
    "efficiency_matrix = get_efficiency(mc_data,channels,variables,cuts)\n",
    "print(efficiency_matrix)"
   ]
  },
  {
   "cell_type": "code",
   "execution_count": null,
   "id": "mighty-establishment",
   "metadata": {},
   "outputs": [],
   "source": []
  }
 ],
 "metadata": {
  "kernelspec": {
   "display_name": "Python 3",
   "language": "python",
   "name": "python3"
  },
  "language_info": {
   "codemirror_mode": {
    "name": "ipython",
    "version": 3
   },
   "file_extension": ".py",
   "mimetype": "text/x-python",
   "name": "python",
   "nbconvert_exporter": "python",
   "pygments_lexer": "ipython3",
   "version": "3.9.2"
  }
 },
 "nbformat": 4,
 "nbformat_minor": 5
}
