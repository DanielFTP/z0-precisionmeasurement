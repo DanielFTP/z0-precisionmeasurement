{
 "cells": [
  {
   "cell_type": "markdown",
   "id": "beautiful-worst",
   "metadata": {},
   "source": [
    "# Exercise 1: Optimize lepton selection\n",
    "\n",
    "* First, print the distributions of the relevant variables for *all* the Monte Carlo samples (i.e. all the *channels* of the $Z$-boson decay to be studied). Which variables are these? Give sensible ranges to include all the events in the samples (both MC and OPAL data) \n",
    "* Do the same for **one** of the OPAL data samples (your lab assistant will decide which one you choose).\n",
    "* Describe the results.\n",
    "* Optimize the object selection by applying cuts. Make a strategy on how to proceed to find the optimal selection. which information do you need?\n",
    "* Determine the efficiency and the amount of background for each $Z$ decay channel. Use the simulated events $e^+e^-$, $\\mu^+\\mu^-$, $\\tau^+\\tau^-$ and hadrons ($qq$). Represent the result in a matrix form and think carefully about how you have to correct the measured rates. Don't forget to calculate the errors!\n",
    "* How do we estimate the statistical fluctuations per bin?"
   ]
  },
  {
   "cell_type": "markdown",
   "id": "blessed-memory",
   "metadata": {},
   "source": [
    "#### Import libraries"
   ]
  },
  {
   "cell_type": "code",
   "execution_count": 1,
   "id": "impaired-adams",
   "metadata": {},
   "outputs": [],
   "source": [
    "import uproot\n",
    "import awkward as ak\n",
    "import mplhep\n",
    "%matplotlib inline \n",
    "import numpy as np\n",
    "import matplotlib.pyplot as plt"
   ]
  },
  {
   "cell_type": "markdown",
   "id": "familiar-broadcasting",
   "metadata": {},
   "source": [
    "#### Load the data"
   ]
  },
  {
   "cell_type": "code",
   "execution_count": 2,
   "id": "hundred-madison",
   "metadata": {},
   "outputs": [
    {
     "name": "stdout",
     "output_type": "stream",
     "text": [
      "['run', 'event', 'Ncharged', 'Pcharged', 'E_ecal', 'E_hcal', 'E_lep', 'cos_thru', 'cos_thet']\n"
     ]
    }
   ],
   "source": [
    "### Specify the folder path for MC samples\n",
    "path_data = 'data/'\n",
    "\n",
    "### Open the file introducing file path\n",
    "mc_data_ee = uproot.open(path_data+'ee.root')\n",
    "mc_data_mm = uproot.open(path_data+'mm.root')\n",
    "mc_data_qq = uproot.open(path_data+'qq.root')\n",
    "mc_data_tt = uproot.open(path_data+'tt.root')\n",
    "ttree_name = 'myTTree'\n",
    "\n",
    "### Print list of 'branches' of the TTree (i.e. list of variable names)\n",
    "mc_data_ee[ttree_name].keys()\n",
    "print(mc_data_ee[ttree_name].keys())\n",
    "\n",
    "### Load branches\n",
    "branches_ee = mc_data_ee[ttree_name].arrays()\n",
    "branches_mm = mc_data_mm[ttree_name].arrays()\n",
    "branches_qq = mc_data_mm[ttree_name].arrays()\n",
    "branches_tt = mc_data_mm[ttree_name].arrays()\n",
    "\n",
    "### List of variables (of interest)\n",
    "vars=['Pcharged', 'Ncharged', 'E_ecal', 'E_hcal']\n"
   ]
  },
  {
   "cell_type": "code",
   "execution_count": null,
   "id": "subsequent-framework",
   "metadata": {},
   "outputs": [],
   "source": []
  }
 ],
 "metadata": {
  "kernelspec": {
   "display_name": "Python 3",
   "language": "python",
   "name": "python3"
  },
  "language_info": {
   "codemirror_mode": {
    "name": "ipython",
    "version": 3
   },
   "file_extension": ".py",
   "mimetype": "text/x-python",
   "name": "python",
   "nbconvert_exporter": "python",
   "pygments_lexer": "ipython3",
   "version": "3.9.2"
  }
 },
 "nbformat": 4,
 "nbformat_minor": 5
}
