{
 "cells": [
  {
   "cell_type": "markdown",
   "id": "beautiful-worst",
   "metadata": {},
   "source": [
    "# Exercise 1: Optimize lepton selection\n",
    "\n",
    "* First, print the distributions of the relevant variables for *all* the Monte Carlo samples (i.e. all the *channels* of the $Z$-boson decay to be studied). Which variables are these? Give sensible ranges to include all the events in the samples (both MC and OPAL data) \n",
    "* Do the same for **one** of the OPAL data samples (your lab assistant will decide which one you choose).\n",
    "* Describe the results.\n",
    "* Optimize the object selection by applying cuts. Make a strategy on how to proceed to find the optimal selection. which information do you need?\n",
    "* Determine the efficiency and the amount of background for each $Z$ decay channel. Use the simulated events $e^+e^-$, $\\mu^+\\mu^-$, $\\tau^+\\tau^-$ and hadrons ($qq$). Represent the result in a matrix form and think carefully about how you have to correct the measured rates. Don't forget to calculate the errors!\n",
    "* How do we estimate the statistical fluctuations per bin?"
   ]
  },
  {
   "cell_type": "markdown",
   "id": "blessed-memory",
   "metadata": {},
   "source": [
    "#### Import libraries"
   ]
  },
  {
   "cell_type": "code",
   "execution_count": 1,
   "id": "impaired-adams",
   "metadata": {},
   "outputs": [],
   "source": [
    "import uproot\n",
    "import awkward as ak\n",
    "import mplhep\n",
    "%matplotlib inline \n",
    "import numpy as np\n",
    "import matplotlib.pyplot as plt"
   ]
  },
  {
   "cell_type": "markdown",
   "id": "familiar-broadcasting",
   "metadata": {},
   "source": [
    "#### Load the data"
   ]
  },
  {
   "cell_type": "code",
   "execution_count": 39,
   "id": "hundred-madison",
   "metadata": {},
   "outputs": [
    {
     "ename": "ValueError",
     "evalue": "all the input array dimensions for the concatenation axis must match exactly, but along dimension 1, the array at index 0 has size 93802 and the array at index 1 has size 94381",
     "output_type": "error",
     "traceback": [
      "\u001b[0;31m---------------------------------------------------------------------------\u001b[0m",
      "\u001b[0;31mValueError\u001b[0m                                Traceback (most recent call last)",
      "\u001b[0;32m<ipython-input-39-988755a5a35f>\u001b[0m in \u001b[0;36m<module>\u001b[0;34m\u001b[0m\n\u001b[1;32m     43\u001b[0m \u001b[0me_hcal_tt\u001b[0m\u001b[0;34m=\u001b[0m\u001b[0mak\u001b[0m\u001b[0;34m.\u001b[0m\u001b[0mto_numpy\u001b[0m\u001b[0;34m(\u001b[0m\u001b[0mbranches_tt\u001b[0m\u001b[0;34m[\u001b[0m\u001b[0mvars\u001b[0m\u001b[0;34m[\u001b[0m\u001b[0;36m3\u001b[0m\u001b[0;34m]\u001b[0m\u001b[0;34m]\u001b[0m\u001b[0;34m)\u001b[0m\u001b[0;34m\u001b[0m\u001b[0;34m\u001b[0m\u001b[0m\n\u001b[1;32m     44\u001b[0m \u001b[0;34m\u001b[0m\u001b[0m\n\u001b[0;32m---> 45\u001b[0;31m \u001b[0mpCharged\u001b[0m\u001b[0;34m=\u001b[0m\u001b[0mnp\u001b[0m\u001b[0;34m.\u001b[0m\u001b[0mrow_stack\u001b[0m\u001b[0;34m(\u001b[0m\u001b[0;34m[\u001b[0m\u001b[0mpchar_ee\u001b[0m\u001b[0;34m,\u001b[0m\u001b[0mpchar_mm\u001b[0m\u001b[0;34m,\u001b[0m\u001b[0mpchar_qq\u001b[0m\u001b[0;34m,\u001b[0m\u001b[0mpchar_tt\u001b[0m\u001b[0;34m]\u001b[0m\u001b[0;34m)\u001b[0m\u001b[0;34m\u001b[0m\u001b[0;34m\u001b[0m\u001b[0m\n\u001b[0m\u001b[1;32m     46\u001b[0m \u001b[0;34m\u001b[0m\u001b[0m\n\u001b[1;32m     47\u001b[0m \u001b[0;34m\u001b[0m\u001b[0m\n",
      "\u001b[0;32m<__array_function__ internals>\u001b[0m in \u001b[0;36mvstack\u001b[0;34m(*args, **kwargs)\u001b[0m\n",
      "\u001b[0;32m~/anaconda3/envs/z0-env/lib/python3.9/site-packages/numpy/core/shape_base.py\u001b[0m in \u001b[0;36mvstack\u001b[0;34m(tup)\u001b[0m\n\u001b[1;32m    281\u001b[0m     \u001b[0;32mif\u001b[0m \u001b[0;32mnot\u001b[0m \u001b[0misinstance\u001b[0m\u001b[0;34m(\u001b[0m\u001b[0marrs\u001b[0m\u001b[0;34m,\u001b[0m \u001b[0mlist\u001b[0m\u001b[0;34m)\u001b[0m\u001b[0;34m:\u001b[0m\u001b[0;34m\u001b[0m\u001b[0;34m\u001b[0m\u001b[0m\n\u001b[1;32m    282\u001b[0m         \u001b[0marrs\u001b[0m \u001b[0;34m=\u001b[0m \u001b[0;34m[\u001b[0m\u001b[0marrs\u001b[0m\u001b[0;34m]\u001b[0m\u001b[0;34m\u001b[0m\u001b[0;34m\u001b[0m\u001b[0m\n\u001b[0;32m--> 283\u001b[0;31m     \u001b[0;32mreturn\u001b[0m \u001b[0m_nx\u001b[0m\u001b[0;34m.\u001b[0m\u001b[0mconcatenate\u001b[0m\u001b[0;34m(\u001b[0m\u001b[0marrs\u001b[0m\u001b[0;34m,\u001b[0m \u001b[0;36m0\u001b[0m\u001b[0;34m)\u001b[0m\u001b[0;34m\u001b[0m\u001b[0;34m\u001b[0m\u001b[0m\n\u001b[0m\u001b[1;32m    284\u001b[0m \u001b[0;34m\u001b[0m\u001b[0m\n\u001b[1;32m    285\u001b[0m \u001b[0;34m\u001b[0m\u001b[0m\n",
      "\u001b[0;32m<__array_function__ internals>\u001b[0m in \u001b[0;36mconcatenate\u001b[0;34m(*args, **kwargs)\u001b[0m\n",
      "\u001b[0;31mValueError\u001b[0m: all the input array dimensions for the concatenation axis must match exactly, but along dimension 1, the array at index 0 has size 93802 and the array at index 1 has size 94381"
     ]
    }
   ],
   "source": [
    "### Specify the folder path for MC samples\n",
    "path_data = 'data/'\n",
    "\n",
    "### Open the file introducing file path\n",
    "mc_data_ee = uproot.open(path_data+'ee.root')\n",
    "mc_data_mm = uproot.open(path_data+'mm.root')\n",
    "mc_data_qq = uproot.open(path_data+'qq.root')\n",
    "mc_data_tt = uproot.open(path_data+'tt.root')\n",
    "ttree_name = 'myTTree'\n",
    "\n",
    "### Print list of 'branches' of the TTree (i.e. list of variable names)\n",
    "mc_data_ee[ttree_name].keys()\n",
    "#print(mc_data_ee[ttree_name].keys())\n",
    "\n",
    "### Load branches\n",
    "branches_ee = mc_data_ee[ttree_name].arrays()\n",
    "branches_mm = mc_data_mm[ttree_name].arrays()\n",
    "branches_qq = mc_data_mm[ttree_name].arrays()\n",
    "branches_tt = mc_data_mm[ttree_name].arrays()\n",
    "\n",
    "### List of variables (of interest)\n",
    "vars=['Pcharged', 'Ncharged', 'E_ecal', 'E_hcal']\n",
    "\n",
    "###\n",
    "# pchar_ee= ak.to_numpy(branches_ee[vars[0]])\n",
    "# nchar_ee=ak.to_numpy(branches_ee[vars[1]])\n",
    "# e_ecal_ee=ak.to_numpy(branches_ee[vars[2]])\n",
    "# e_hcal_ee=ak.to_numpy(branches_ee[vars[3]])\n",
    "\n",
    "# pchar_mm= ak.to_numpy(branches_mm[vars[0]])\n",
    "# nchar_mm=ak.to_numpy(branches_mm[vars[1]])\n",
    "# e_ecal_mm=ak.to_numpy(branches_mm[vars[2]])\n",
    "# e_hcal_mm=ak.to_numpy(branches_mm[vars[3]])\n",
    "\n",
    "# pchar_qq= ak.to_numpy(branches_qq[vars[0]])\n",
    "# nchar_qq=ak.to_numpy(branches_qq[vars[1]])\n",
    "# e_ecal_qq=ak.to_numpy(branches_qq[vars[2]])\n",
    "# e_hcal_qq=ak.to_numpy(branches_qq[vars[3]])\n",
    "\n",
    "# pchar_tt= ak.to_numpy(branches_tt[vars[0]])\n",
    "# nchar_tt=ak.to_numpy(branches_tt[vars[1]])\n",
    "# e_ecal_tt=ak.to_numpy(branches_tt[vars[2]])\n",
    "# e_hcal_tt=ak.to_numpy(branches_tt[vars[3]])\n",
    "\n",
    "\n",
    "\n",
    "\n",
    "# print(f\"Array of type '{type(pchar_qq)}' defined for '{vars[0]}' for hadrons:\\n{pchar_qq}\")\n",
    "# print(pchar_qq.max())\n",
    "# print(pchar_qq.min())\n",
    "# print(pchar_qq.size)\n",
    "# print(pchar_qq.mean())\n",
    "# print(pchar_qq.std())"
   ]
  },
  {
   "cell_type": "markdown",
   "id": "gothic-algorithm",
   "metadata": {},
   "source": [
    "Choose bin width with scotts rule: bin width $\\Delta b = \\frac{3.5 \\sigma}{n}$. Where $n$ is the size of the array."
   ]
  },
  {
   "cell_type": "code",
   "execution_count": 12,
   "id": "subsequent-framework",
   "metadata": {},
   "outputs": [
    {
     "data": {
      "image/png": "[encoded data removed]",
      "text/plain": [
       "<Figure size 432x288 with 1 Axes>"
      ]
     },
     "metadata": {
      "needs_background": "light"
     },
     "output_type": "display_data"
    }
   ],
   "source": [
    "plt.hist(pchar_qq,bins=np.arange(,2));\n",
    "plt.show()"
   ]
  },
  {
   "cell_type": "code",
   "execution_count": 25,
   "id": "overall-prince",
   "metadata": {},
   "outputs": [],
   "source": [
    "labels=['r$Z^0$ $\\to$ hadrons',r'$Z^0$ $\\to$ $e^+e^-$',r'$Z^0$ $\\to$ $\\mu^+\\mu^-$',r'$Z^0$ $\\to$ $\\tau^+\\tau^-$']\n",
    "bin_widths=np.zeros(4)\n",
    "for i in np.arange(4):\n",
    "    bin_widths[i]=3.5*ak.to_numpy(branches_qq[vars[0]]).std()/ak.to_numpy(branches_qq[vars[0]])"
   ]
  },
  {
   "cell_type": "code",
   "execution_count": 37,
   "id": "variable-exhaust",
   "metadata": {},
   "outputs": [
    {
     "name": "stdout",
     "output_type": "stream",
     "text": [
      "[[1 2 3]\n",
      " [4 5 6]]\n",
      "[1 2 3]\n"
     ]
    }
   ],
   "source": [
    "a=np.array([1,2,3])\n",
    "b=np.array([4,5,6])\n",
    "c=np.row_stack((a,b))\n",
    "print(c)\n",
    "print(c[0])"
   ]
  },
  {
   "cell_type": "code",
   "execution_count": null,
   "id": "native-might",
   "metadata": {},
   "outputs": [],
   "source": []
  }
 ],
 "metadata": {
  "kernelspec": {
   "display_name": "Python 3",
   "language": "python",
   "name": "python3"
  },
  "language_info": {
   "codemirror_mode": {
    "name": "ipython",
    "version": 3
   },
   "file_extension": ".py",
   "mimetype": "text/x-python",
   "name": "python",
   "nbconvert_exporter": "python",
   "pygments_lexer": "ipython3",
   "version": "3.9.2"
  }
 },
 "nbformat": 4,
 "nbformat_minor": 5
}
