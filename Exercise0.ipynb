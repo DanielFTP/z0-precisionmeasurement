{
 "cells": [
  {
   "cell_type": "markdown",
   "id": "rolled-johnson",
   "metadata": {},
   "source": [
    "### Generating the  histogramms for the grope test samples"
   ]
  },
  {
   "cell_type": "code",
   "execution_count": null,
   "id": "collect-victim",
   "metadata": {},
   "outputs": [],
   "source": [
    "# Import libraries\n",
    "import numpy as np\n",
    "import matplotlib.pyplot as plt\n",
    "import mplhep"
   ]
  },
  {
   "cell_type": "code",
   "execution_count": null,
   "id": "educational-marketplace",
   "metadata": {},
   "outputs": [],
   "source": [
    "# read in the data\n",
    "h=np.loadtxt(\"data/Hadron.txt\")\n",
    "e=np.loadtxt(\"data/Electron.txt\")\n",
    "m=np.loadtxt(\"data/Muon.txt\")\n",
    "t=np.loadtxt(\"data/Tau.txt\")\n",
    "h=h.transpose();\n",
    "e=e.transpose();\n",
    "m=m.transpose();\n",
    "t=t.transpose();"
   ]
  },
  {
   "cell_type": "code",
   "execution_count": null,
   "id": "loaded-conservative",
   "metadata": {},
   "outputs": [],
   "source": [
    "# make the histograms\n",
    "plt.style.use(mplhep.style.ATLAS) # load ATLAS plot style\n",
    "plt.hist(h[2],bins=np.arange(0, 300, 5),label=r'$Z^0$ $\\to$ hadrons',alpha=0.7)\n",
    "plt.hist(e[2],bins=np.arange(0, 300, 5),label=r'$Z^0$ $\\to$ $e^+e^-$',alpha=0.7)\n",
    "plt.hist(m[3],bins=np.arange(0, 300, 5),label=r'$Z^0$ $\\to$ $\\mu^+\\mu^-$',alpha=0.7)\n",
    "plt.hist(t[3],bins=np.arange(0, 300, 5),label=r'$Z^0$ $\\to$ $\\tau^+\\tau^-$',alpha=0.7)\n",
    "plt.title(r'PCharged: total sum of charged momenta')\n",
    "plt.legend()\n",
    "plt.xlabel(r'PCharged [GeV]')\n",
    "plt.xlim(0,310)\n",
    "plt.show()"
   ]
  },
  {
   "cell_type": "code",
   "execution_count": null,
   "id": "female-thinking",
   "metadata": {},
   "outputs": [],
   "source": [
    "plt.hist(h[3],bins=np.arange(0, 60, 1),label=r'$Z^0$ $\\to$ hadrons',alpha=0.7)\n",
    "plt.hist(e[3],bins=np.arange(0, 60, 1),label=r'$Z^0$ $\\to$ $e^+e^-$',alpha=0.7)\n",
    "plt.hist(m[2],bins=np.arange(0, 60, 1),label=r'$Z^0$ $\\to$ $\\mu^+\\mu^-$',alpha=0.7)\n",
    "plt.hist(t[2],bins=np.arange(0, 60, 1),label=r'$Z^0$ $\\to$ $\\tau^+\\tau^-$',alpha=0.7)\n",
    "plt.title(r'NCharged: charged multiplicity')\n",
    "plt.legend()\n",
    "plt.xlabel(r'NCharged')\n",
    "plt.xlim(0,60)\n",
    "plt.show()"
   ]
  },
  {
   "cell_type": "code",
   "execution_count": null,
   "id": "decent-rendering",
   "metadata": {
    "scrolled": true
   },
   "outputs": [],
   "source": [
    "plt.hist(h[4],bins=np.arange(0, 100, 2),label=r'$Z^0$ $\\to$ hadrons',alpha=0.7)\n",
    "plt.hist(e[4],bins=np.arange(0, 100, 2),label=r'$Z^0$ $\\to$ $e^+e^-$',alpha=0.7)\n",
    "plt.hist(m[4],bins=np.arange(0, 100, 2),label=r'$Z^0$ $\\to$ $\\mu^+\\mu^-$',alpha=0.7)\n",
    "plt.hist(t[4],bins=np.arange(0, 100, 2),label=r'$Z^0$ $\\to$ $\\tau^+\\tau^-$',alpha=0.7)\n",
    "plt.title(r'E_ECal: total energy in the ECal')\n",
    "plt.legend()\n",
    "plt.xlim(0,100)\n",
    "plt.xlabel(r'E_ECal [GeV]')\n",
    "plt.show()"
   ]
  },
  {
   "cell_type": "code",
   "execution_count": null,
   "id": "after-actress",
   "metadata": {},
   "outputs": [],
   "source": [
    "plt.hist(h[5],bins=np.arange(0, 210, 4),label=r'$Z^0$ $\\to$ hadrons',alpha=0.7)\n",
    "plt.hist(e[5],bins=np.arange(0, 210, 4),label=r'$Z^0$ $\\to$ $e^+e^-$',alpha=0.7)\n",
    "plt.hist(m[5],bins=np.arange(0, 210, 4),label=r'$Z^0$ $\\to$ $\\mu^+\\mu^-$',alpha=0.7)\n",
    "plt.hist(t[5],bins=np.arange(0, 210, 4),label=r'$Z^0$ $\\to$ $\\tau^+\\tau^-$',alpha=0.7)\n",
    "plt.title(r'E_HCal: total energy in the HCal')\n",
    "plt.legend()\n",
    "plt.xlim(0,220)\n",
    "plt.xlabel(r'E_HCal [GeV]')\n",
    "plt.show()"
   ]
  }
 ],
 "metadata": {
  "kernelspec": {
   "display_name": "Python 3",
   "language": "python",
   "name": "python3"
  },
  "language_info": {
   "codemirror_mode": {
    "name": "ipython",
    "version": 3
   },
   "file_extension": ".py",
   "mimetype": "text/x-python",
   "name": "python",
   "nbconvert_exporter": "python",
   "pygments_lexer": "ipython3",
   "version": "3.9.2"
  }
 },
 "nbformat": 4,
 "nbformat_minor": 5
}
